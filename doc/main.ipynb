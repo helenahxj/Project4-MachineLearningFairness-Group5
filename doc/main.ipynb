{
 "cells": [
  {
   "cell_type": "code",
   "execution_count": 56,
   "metadata": {
    "id": "ulwOD5MKpMDQ"
   },
   "outputs": [],
   "source": [
    "## import the required package\n",
    "import pandas as pd\n",
    "import numpy as np\n",
    "import matplotlib.pyplot as plt\n",
    "from sklearn.datasets import fetch_california_housing\n",
    "from sklearn.model_selection import train_test_split\n",
    "from sklearn.metrics import mean_squared_error\n",
    "from sklearn.linear_model import LogisticRegression\n",
    "from sklearn.preprocessing import StandardScaler, LabelEncoder\n",
    "import torch as t\n",
    "import torch.nn as nn\n",
    "from torch.nn import functional as F\n",
    "import re"
   ]
  },
  {
   "cell_type": "markdown",
   "metadata": {
    "id": "7AF9EV21orzL"
   },
   "source": [
    "## Data Description\n",
    "\n",
    "The data contains the crimial history jail and prison time, demographics and COMPAS risk scores for defendants from Broward County from 2013 to 2014. The dataset we are using is compas-scores-two-years.csv."
   ]
  },
  {
   "cell_type": "code",
   "execution_count": 74,
   "metadata": {
    "id": "bWg3BXzOn8SK"
   },
   "outputs": [],
   "source": [
    "## Read the file\n",
    "df = pd.read_csv(\"/content/compas-scores-two-years.csv\")\n",
    "\n",
    "## Filter the data\n",
    "df = df[(df[\"race\"] == \"African-American\") | (df[\"race\"] == \"Caucasian\")]\n",
    "\n",
    "## Change the race entry\n",
    "df[\"race\"] = np.where(df[\"race\"] == \"African-American\", 0, 1)\n",
    "\n",
    "## We drop attributes that is clearly independent with the two_year_recid, ie. name, id, r_case_number, c_case_number,\n",
    "## as well as the attribute with all NaN value\n",
    "## as well as the duplicate columns\n",
    "df.drop([\"id\", \"name\", \"first\", \"last\", \"r_case_number\", \"c_case_number\",\n",
    "         \"violent_recid\",\n",
    "         \"decile_score.1\", \"priors_count.1\"],\n",
    "        axis = 1, inplace=True)"
   ]
  },
  {
   "cell_type": "code",
   "execution_count": 75,
   "metadata": {
    "id": "t5dzG7xUBJAj"
   },
   "outputs": [],
   "source": [
    "## We drop the column with the number of NaN value exceed 1000\n",
    "df.drop([\"vr_charge_desc\", \"vr_offense_date\",\n",
    "        \"vr_charge_degree\", \"vr_case_number\", \"c_arrest_date\",\n",
    "        \"c_arrest_date\", \"r_jail_out\", \"r_jail_in\", \"r_days_from_arrest\",\n",
    "        \"r_charge_desc\", \"r_charge_degree\", \"r_offense_date\"],\n",
    "        axis = 1, inplace=True)\n",
    "\n",
    "## Remove the rows with NaN\n",
    "df.dropna(inplace=True)\n",
    "\n",
    "## we also drop the columns represent the date\n",
    "df.drop(['compas_screening_date', 'dob', 'c_jail_in', 'c_jail_out',\n",
    "         'c_offense_date', 'screening_date', 'v_screening_date',\n",
    "         'in_custody', 'out_custody', 'days_b_screening_arrest'],\n",
    "        axis = 1, inplace=True)\n",
    "\n",
    "## We drop the somehow repeated attribute, age_cat, score_text, v_score_text\n",
    "df.drop(['age_cat', 'score_text', 'v_score_text', 'is_recid', \"v_decile_score\"],\n",
    "        axis = 1, inplace=True)\n",
    "\n",
    "## Set sex into 0 or 1, c_charge_degree into 0 or 1\n",
    "df[\"sex\"] = np.where(df[\"sex\"] == \"Male\", 0, 1)\n",
    "df[\"c_charge_degree\"] = np.where(df[\"c_charge_degree\"] == \"M\", 0, 1)\n",
    "\n",
    "## Drop the column with only 1 input or too many category\n",
    "df.drop(['type_of_assessment', 'v_type_of_assessment', 'c_charge_desc'],\n",
    "        axis = 1, inplace=True)"
   ]
  },
  {
   "cell_type": "code",
   "execution_count": 76,
   "metadata": {
    "colab": {
     "base_uri": "https://localhost:8080/",
     "height": 224
    },
    "id": "atBueMBKbSDe",
    "outputId": "64471a8d-16e9-4e32-d580-9e96fdfb7f33"
   },
   "outputs": [
    {
     "data": {
      "application/vnd.google.colaboratory.intrinsic+json": {
       "summary": "{\n  \"name\": \"df\",\n  \"rows\": 4989,\n  \"fields\": [\n    {\n      \"column\": \"sex\",\n      \"properties\": {\n        \"dtype\": \"number\",\n        \"std\": 0,\n        \"min\": 0,\n        \"max\": 1,\n        \"num_unique_values\": 2,\n        \"samples\": [\n          1,\n          0\n        ],\n        \"semantic_type\": \"\",\n        \"description\": \"\"\n      }\n    },\n    {\n      \"column\": \"age\",\n      \"properties\": {\n        \"dtype\": \"number\",\n        \"std\": 11,\n        \"min\": 18,\n        \"max\": 80,\n        \"num_unique_values\": 62,\n        \"samples\": [\n          40,\n          73\n        ],\n        \"semantic_type\": \"\",\n        \"description\": \"\"\n      }\n    },\n    {\n      \"column\": \"race\",\n      \"properties\": {\n        \"dtype\": \"number\",\n        \"std\": 0,\n        \"min\": 0,\n        \"max\": 1,\n        \"num_unique_values\": 2,\n        \"samples\": [\n          1,\n          0\n        ],\n        \"semantic_type\": \"\",\n        \"description\": \"\"\n      }\n    },\n    {\n      \"column\": \"juv_fel_count\",\n      \"properties\": {\n        \"dtype\": \"number\",\n        \"std\": 0,\n        \"min\": 0,\n        \"max\": 10,\n        \"num_unique_values\": 9,\n        \"samples\": [\n          5,\n          2\n        ],\n        \"semantic_type\": \"\",\n        \"description\": \"\"\n      }\n    },\n    {\n      \"column\": \"decile_score\",\n      \"properties\": {\n        \"dtype\": \"number\",\n        \"std\": 2,\n        \"min\": 1,\n        \"max\": 10,\n        \"num_unique_values\": 10,\n        \"samples\": [\n          7,\n          4\n        ],\n        \"semantic_type\": \"\",\n        \"description\": \"\"\n      }\n    },\n    {\n      \"column\": \"juv_misd_count\",\n      \"properties\": {\n        \"dtype\": \"number\",\n        \"std\": 0,\n        \"min\": 0,\n        \"max\": 13,\n        \"num_unique_values\": 10,\n        \"samples\": [\n          5,\n          1\n        ],\n        \"semantic_type\": \"\",\n        \"description\": \"\"\n      }\n    },\n    {\n      \"column\": \"juv_other_count\",\n      \"properties\": {\n        \"dtype\": \"number\",\n        \"std\": 0,\n        \"min\": 0,\n        \"max\": 7,\n        \"num_unique_values\": 7,\n        \"samples\": [\n          0,\n          1\n        ],\n        \"semantic_type\": \"\",\n        \"description\": \"\"\n      }\n    },\n    {\n      \"column\": \"priors_count\",\n      \"properties\": {\n        \"dtype\": \"number\",\n        \"std\": 4,\n        \"min\": 0,\n        \"max\": 38,\n        \"num_unique_values\": 34,\n        \"samples\": [\n          28,\n          24\n        ],\n        \"semantic_type\": \"\",\n        \"description\": \"\"\n      }\n    },\n    {\n      \"column\": \"c_days_from_compas\",\n      \"properties\": {\n        \"dtype\": \"number\",\n        \"std\": 232.8349808005465,\n        \"min\": 0.0,\n        \"max\": 9485.0,\n        \"num_unique_values\": 263,\n        \"samples\": [\n          112.0,\n          120.0\n        ],\n        \"semantic_type\": \"\",\n        \"description\": \"\"\n      }\n    },\n    {\n      \"column\": \"c_charge_degree\",\n      \"properties\": {\n        \"dtype\": \"number\",\n        \"std\": 0,\n        \"min\": 0,\n        \"max\": 1,\n        \"num_unique_values\": 2,\n        \"samples\": [\n          0,\n          1\n        ],\n        \"semantic_type\": \"\",\n        \"description\": \"\"\n      }\n    },\n    {\n      \"column\": \"is_violent_recid\",\n      \"properties\": {\n        \"dtype\": \"number\",\n        \"std\": 0,\n        \"min\": 0,\n        \"max\": 1,\n        \"num_unique_values\": 2,\n        \"samples\": [\n          0,\n          1\n        ],\n        \"semantic_type\": \"\",\n        \"description\": \"\"\n      }\n    },\n    {\n      \"column\": \"start\",\n      \"properties\": {\n        \"dtype\": \"number\",\n        \"std\": 44,\n        \"min\": 0,\n        \"max\": 748,\n        \"num_unique_values\": 189,\n        \"samples\": [\n          205,\n          140\n        ],\n        \"semantic_type\": \"\",\n        \"description\": \"\"\n      }\n    },\n    {\n      \"column\": \"end\",\n      \"properties\": {\n        \"dtype\": \"number\",\n        \"std\": 397,\n        \"min\": 1,\n        \"max\": 1186,\n        \"num_unique_values\": 1059,\n        \"samples\": [\n          3,\n          1040\n        ],\n        \"semantic_type\": \"\",\n        \"description\": \"\"\n      }\n    },\n    {\n      \"column\": \"event\",\n      \"properties\": {\n        \"dtype\": \"number\",\n        \"std\": 0,\n        \"min\": 0,\n        \"max\": 1,\n        \"num_unique_values\": 2,\n        \"samples\": [\n          0,\n          1\n        ],\n        \"semantic_type\": \"\",\n        \"description\": \"\"\n      }\n    },\n    {\n      \"column\": \"two_year_recid\",\n      \"properties\": {\n        \"dtype\": \"number\",\n        \"std\": 0,\n        \"min\": 0,\n        \"max\": 1,\n        \"num_unique_values\": 2,\n        \"samples\": [\n          0,\n          1\n        ],\n        \"semantic_type\": \"\",\n        \"description\": \"\"\n      }\n    }\n  ]\n}",
       "type": "dataframe",
       "variable_name": "df"
      },
      "text/html": [
       "\n",
       "  <div id=\"df-bada5956-8e8a-44ee-b2e6-f568795e93e2\" class=\"colab-df-container\">\n",
       "    <div>\n",
       "<style scoped>\n",
       "    .dataframe tbody tr th:only-of-type {\n",
       "        vertical-align: middle;\n",
       "    }\n",
       "\n",
       "    .dataframe tbody tr th {\n",
       "        vertical-align: top;\n",
       "    }\n",
       "\n",
       "    .dataframe thead th {\n",
       "        text-align: right;\n",
       "    }\n",
       "</style>\n",
       "<table border=\"1\" class=\"dataframe\">\n",
       "  <thead>\n",
       "    <tr style=\"text-align: right;\">\n",
       "      <th></th>\n",
       "      <th>sex</th>\n",
       "      <th>age</th>\n",
       "      <th>race</th>\n",
       "      <th>juv_fel_count</th>\n",
       "      <th>decile_score</th>\n",
       "      <th>juv_misd_count</th>\n",
       "      <th>juv_other_count</th>\n",
       "      <th>priors_count</th>\n",
       "      <th>c_days_from_compas</th>\n",
       "      <th>c_charge_degree</th>\n",
       "      <th>is_violent_recid</th>\n",
       "      <th>start</th>\n",
       "      <th>end</th>\n",
       "      <th>event</th>\n",
       "      <th>two_year_recid</th>\n",
       "    </tr>\n",
       "  </thead>\n",
       "  <tbody>\n",
       "    <tr>\n",
       "      <th>1</th>\n",
       "      <td>0</td>\n",
       "      <td>34</td>\n",
       "      <td>0</td>\n",
       "      <td>0</td>\n",
       "      <td>3</td>\n",
       "      <td>0</td>\n",
       "      <td>0</td>\n",
       "      <td>0</td>\n",
       "      <td>1.0</td>\n",
       "      <td>1</td>\n",
       "      <td>1</td>\n",
       "      <td>9</td>\n",
       "      <td>159</td>\n",
       "      <td>1</td>\n",
       "      <td>1</td>\n",
       "    </tr>\n",
       "    <tr>\n",
       "      <th>2</th>\n",
       "      <td>0</td>\n",
       "      <td>24</td>\n",
       "      <td>0</td>\n",
       "      <td>0</td>\n",
       "      <td>4</td>\n",
       "      <td>0</td>\n",
       "      <td>1</td>\n",
       "      <td>4</td>\n",
       "      <td>1.0</td>\n",
       "      <td>1</td>\n",
       "      <td>0</td>\n",
       "      <td>0</td>\n",
       "      <td>63</td>\n",
       "      <td>0</td>\n",
       "      <td>1</td>\n",
       "    </tr>\n",
       "    <tr>\n",
       "      <th>6</th>\n",
       "      <td>0</td>\n",
       "      <td>41</td>\n",
       "      <td>1</td>\n",
       "      <td>0</td>\n",
       "      <td>6</td>\n",
       "      <td>0</td>\n",
       "      <td>0</td>\n",
       "      <td>14</td>\n",
       "      <td>1.0</td>\n",
       "      <td>1</td>\n",
       "      <td>0</td>\n",
       "      <td>5</td>\n",
       "      <td>40</td>\n",
       "      <td>1</td>\n",
       "      <td>1</td>\n",
       "    </tr>\n",
       "    <tr>\n",
       "      <th>8</th>\n",
       "      <td>1</td>\n",
       "      <td>39</td>\n",
       "      <td>1</td>\n",
       "      <td>0</td>\n",
       "      <td>1</td>\n",
       "      <td>0</td>\n",
       "      <td>0</td>\n",
       "      <td>0</td>\n",
       "      <td>1.0</td>\n",
       "      <td>0</td>\n",
       "      <td>0</td>\n",
       "      <td>2</td>\n",
       "      <td>747</td>\n",
       "      <td>0</td>\n",
       "      <td>0</td>\n",
       "    </tr>\n",
       "    <tr>\n",
       "      <th>9</th>\n",
       "      <td>0</td>\n",
       "      <td>21</td>\n",
       "      <td>1</td>\n",
       "      <td>0</td>\n",
       "      <td>3</td>\n",
       "      <td>0</td>\n",
       "      <td>0</td>\n",
       "      <td>1</td>\n",
       "      <td>308.0</td>\n",
       "      <td>1</td>\n",
       "      <td>1</td>\n",
       "      <td>0</td>\n",
       "      <td>428</td>\n",
       "      <td>1</td>\n",
       "      <td>1</td>\n",
       "    </tr>\n",
       "  </tbody>\n",
       "</table>\n",
       "</div>\n",
       "    <div class=\"colab-df-buttons\">\n",
       "\n",
       "  <div class=\"colab-df-container\">\n",
       "    <button class=\"colab-df-convert\" onclick=\"convertToInteractive('df-bada5956-8e8a-44ee-b2e6-f568795e93e2')\"\n",
       "            title=\"Convert this dataframe to an interactive table.\"\n",
       "            style=\"display:none;\">\n",
       "\n",
       "  <svg xmlns=\"http://www.w3.org/2000/svg\" height=\"24px\" viewBox=\"0 -960 960 960\">\n",
       "    <path d=\"M120-120v-720h720v720H120Zm60-500h600v-160H180v160Zm220 220h160v-160H400v160Zm0 220h160v-160H400v160ZM180-400h160v-160H180v160Zm440 0h160v-160H620v160ZM180-180h160v-160H180v160Zm440 0h160v-160H620v160Z\"/>\n",
       "  </svg>\n",
       "    </button>\n",
       "\n",
       "  <style>\n",
       "    .colab-df-container {\n",
       "      display:flex;\n",
       "      gap: 12px;\n",
       "    }\n",
       "\n",
       "    .colab-df-convert {\n",
       "      background-color: #E8F0FE;\n",
       "      border: none;\n",
       "      border-radius: 50%;\n",
       "      cursor: pointer;\n",
       "      display: none;\n",
       "      fill: #1967D2;\n",
       "      height: 32px;\n",
       "      padding: 0 0 0 0;\n",
       "      width: 32px;\n",
       "    }\n",
       "\n",
       "    .colab-df-convert:hover {\n",
       "      background-color: #E2EBFA;\n",
       "      box-shadow: 0px 1px 2px rgba(60, 64, 67, 0.3), 0px 1px 3px 1px rgba(60, 64, 67, 0.15);\n",
       "      fill: #174EA6;\n",
       "    }\n",
       "\n",
       "    .colab-df-buttons div {\n",
       "      margin-bottom: 4px;\n",
       "    }\n",
       "\n",
       "    [theme=dark] .colab-df-convert {\n",
       "      background-color: #3B4455;\n",
       "      fill: #D2E3FC;\n",
       "    }\n",
       "\n",
       "    [theme=dark] .colab-df-convert:hover {\n",
       "      background-color: #434B5C;\n",
       "      box-shadow: 0px 1px 3px 1px rgba(0, 0, 0, 0.15);\n",
       "      filter: drop-shadow(0px 1px 2px rgba(0, 0, 0, 0.3));\n",
       "      fill: #FFFFFF;\n",
       "    }\n",
       "  </style>\n",
       "\n",
       "    <script>\n",
       "      const buttonEl =\n",
       "        document.querySelector('#df-bada5956-8e8a-44ee-b2e6-f568795e93e2 button.colab-df-convert');\n",
       "      buttonEl.style.display =\n",
       "        google.colab.kernel.accessAllowed ? 'block' : 'none';\n",
       "\n",
       "      async function convertToInteractive(key) {\n",
       "        const element = document.querySelector('#df-bada5956-8e8a-44ee-b2e6-f568795e93e2');\n",
       "        const dataTable =\n",
       "          await google.colab.kernel.invokeFunction('convertToInteractive',\n",
       "                                                    [key], {});\n",
       "        if (!dataTable) return;\n",
       "\n",
       "        const docLinkHtml = 'Like what you see? Visit the ' +\n",
       "          '<a target=\"_blank\" href=https://colab.research.google.com/notebooks/data_table.ipynb>data table notebook</a>'\n",
       "          + ' to learn more about interactive tables.';\n",
       "        element.innerHTML = '';\n",
       "        dataTable['output_type'] = 'display_data';\n",
       "        await google.colab.output.renderOutput(dataTable, element);\n",
       "        const docLink = document.createElement('div');\n",
       "        docLink.innerHTML = docLinkHtml;\n",
       "        element.appendChild(docLink);\n",
       "      }\n",
       "    </script>\n",
       "  </div>\n",
       "\n",
       "\n",
       "<div id=\"df-445c3dfa-0147-4685-85d6-236483707631\">\n",
       "  <button class=\"colab-df-quickchart\" onclick=\"quickchart('df-445c3dfa-0147-4685-85d6-236483707631')\"\n",
       "            title=\"Suggest charts\"\n",
       "            style=\"display:none;\">\n",
       "\n",
       "<svg xmlns=\"http://www.w3.org/2000/svg\" height=\"24px\"viewBox=\"0 0 24 24\"\n",
       "     width=\"24px\">\n",
       "    <g>\n",
       "        <path d=\"M19 3H5c-1.1 0-2 .9-2 2v14c0 1.1.9 2 2 2h14c1.1 0 2-.9 2-2V5c0-1.1-.9-2-2-2zM9 17H7v-7h2v7zm4 0h-2V7h2v10zm4 0h-2v-4h2v4z\"/>\n",
       "    </g>\n",
       "</svg>\n",
       "  </button>\n",
       "\n",
       "<style>\n",
       "  .colab-df-quickchart {\n",
       "      --bg-color: #E8F0FE;\n",
       "      --fill-color: #1967D2;\n",
       "      --hover-bg-color: #E2EBFA;\n",
       "      --hover-fill-color: #174EA6;\n",
       "      --disabled-fill-color: #AAA;\n",
       "      --disabled-bg-color: #DDD;\n",
       "  }\n",
       "\n",
       "  [theme=dark] .colab-df-quickchart {\n",
       "      --bg-color: #3B4455;\n",
       "      --fill-color: #D2E3FC;\n",
       "      --hover-bg-color: #434B5C;\n",
       "      --hover-fill-color: #FFFFFF;\n",
       "      --disabled-bg-color: #3B4455;\n",
       "      --disabled-fill-color: #666;\n",
       "  }\n",
       "\n",
       "  .colab-df-quickchart {\n",
       "    background-color: var(--bg-color);\n",
       "    border: none;\n",
       "    border-radius: 50%;\n",
       "    cursor: pointer;\n",
       "    display: none;\n",
       "    fill: var(--fill-color);\n",
       "    height: 32px;\n",
       "    padding: 0;\n",
       "    width: 32px;\n",
       "  }\n",
       "\n",
       "  .colab-df-quickchart:hover {\n",
       "    background-color: var(--hover-bg-color);\n",
       "    box-shadow: 0 1px 2px rgba(60, 64, 67, 0.3), 0 1px 3px 1px rgba(60, 64, 67, 0.15);\n",
       "    fill: var(--button-hover-fill-color);\n",
       "  }\n",
       "\n",
       "  .colab-df-quickchart-complete:disabled,\n",
       "  .colab-df-quickchart-complete:disabled:hover {\n",
       "    background-color: var(--disabled-bg-color);\n",
       "    fill: var(--disabled-fill-color);\n",
       "    box-shadow: none;\n",
       "  }\n",
       "\n",
       "  .colab-df-spinner {\n",
       "    border: 2px solid var(--fill-color);\n",
       "    border-color: transparent;\n",
       "    border-bottom-color: var(--fill-color);\n",
       "    animation:\n",
       "      spin 1s steps(1) infinite;\n",
       "  }\n",
       "\n",
       "  @keyframes spin {\n",
       "    0% {\n",
       "      border-color: transparent;\n",
       "      border-bottom-color: var(--fill-color);\n",
       "      border-left-color: var(--fill-color);\n",
       "    }\n",
       "    20% {\n",
       "      border-color: transparent;\n",
       "      border-left-color: var(--fill-color);\n",
       "      border-top-color: var(--fill-color);\n",
       "    }\n",
       "    30% {\n",
       "      border-color: transparent;\n",
       "      border-left-color: var(--fill-color);\n",
       "      border-top-color: var(--fill-color);\n",
       "      border-right-color: var(--fill-color);\n",
       "    }\n",
       "    40% {\n",
       "      border-color: transparent;\n",
       "      border-right-color: var(--fill-color);\n",
       "      border-top-color: var(--fill-color);\n",
       "    }\n",
       "    60% {\n",
       "      border-color: transparent;\n",
       "      border-right-color: var(--fill-color);\n",
       "    }\n",
       "    80% {\n",
       "      border-color: transparent;\n",
       "      border-right-color: var(--fill-color);\n",
       "      border-bottom-color: var(--fill-color);\n",
       "    }\n",
       "    90% {\n",
       "      border-color: transparent;\n",
       "      border-bottom-color: var(--fill-color);\n",
       "    }\n",
       "  }\n",
       "</style>\n",
       "\n",
       "  <script>\n",
       "    async function quickchart(key) {\n",
       "      const quickchartButtonEl =\n",
       "        document.querySelector('#' + key + ' button');\n",
       "      quickchartButtonEl.disabled = true;  // To prevent multiple clicks.\n",
       "      quickchartButtonEl.classList.add('colab-df-spinner');\n",
       "      try {\n",
       "        const charts = await google.colab.kernel.invokeFunction(\n",
       "            'suggestCharts', [key], {});\n",
       "      } catch (error) {\n",
       "        console.error('Error during call to suggestCharts:', error);\n",
       "      }\n",
       "      quickchartButtonEl.classList.remove('colab-df-spinner');\n",
       "      quickchartButtonEl.classList.add('colab-df-quickchart-complete');\n",
       "    }\n",
       "    (() => {\n",
       "      let quickchartButtonEl =\n",
       "        document.querySelector('#df-445c3dfa-0147-4685-85d6-236483707631 button');\n",
       "      quickchartButtonEl.style.display =\n",
       "        google.colab.kernel.accessAllowed ? 'block' : 'none';\n",
       "    })();\n",
       "  </script>\n",
       "</div>\n",
       "    </div>\n",
       "  </div>\n"
      ],
      "text/plain": [
       "   sex  age  race  juv_fel_count  decile_score  juv_misd_count  \\\n",
       "1    0   34     0              0             3               0   \n",
       "2    0   24     0              0             4               0   \n",
       "6    0   41     1              0             6               0   \n",
       "8    1   39     1              0             1               0   \n",
       "9    0   21     1              0             3               0   \n",
       "\n",
       "   juv_other_count  priors_count  c_days_from_compas  c_charge_degree  \\\n",
       "1                0             0                 1.0                1   \n",
       "2                1             4                 1.0                1   \n",
       "6                0            14                 1.0                1   \n",
       "8                0             0                 1.0                0   \n",
       "9                0             1               308.0                1   \n",
       "\n",
       "   is_violent_recid  start  end  event  two_year_recid  \n",
       "1                 1      9  159      1               1  \n",
       "2                 0      0   63      0               1  \n",
       "6                 0      5   40      1               1  \n",
       "8                 0      2  747      0               0  \n",
       "9                 1      0  428      1               1  "
      ]
     },
     "execution_count": 76,
     "metadata": {},
     "output_type": "execute_result"
    }
   ],
   "source": [
    "df.head(5)"
   ]
  },
  {
   "cell_type": "markdown",
   "metadata": {
    "id": "a1ZonyIXrnWz"
   },
   "source": [
    "## Baseline Model"
   ]
  },
  {
   "cell_type": "code",
   "execution_count": 88,
   "metadata": {
    "colab": {
     "base_uri": "https://localhost:8080/"
    },
    "id": "z0S7qvZYFNr5",
    "outputId": "772170c1-25d5-4220-fa10-0e7e422700a4"
   },
   "outputs": [
    {
     "name": "stdout",
     "output_type": "stream",
     "text": [
      "RMSE: 0.264840\n",
      "Accuracy: 0.929860\n"
     ]
    }
   ],
   "source": [
    "scaler = StandardScaler()\n",
    "X, y = df.drop(\"two_year_recid\", axis = 1, inplace = False), df.two_year_recid\n",
    "X_scaled = scaler.fit_transform(X)\n",
    "X_train, X_test, y_train, y_test = train_test_split(X_scaled, y, test_size=0.2, random_state=5243)\n",
    "\n",
    "\n",
    "baseline = LogisticRegression(random_state=5243,max_iter=1000)\n",
    "\n",
    "baseline.fit(X_train, y_train)\n",
    "preds = baseline.predict(X_test)\n",
    "rmse = np.sqrt(mean_squared_error(y_test, preds))\n",
    "print(\"RMSE: %f\" % (rmse))\n",
    "\n",
    "preds_all = baseline.predict(X_test)\n",
    "accuracy_base = sum(y_test == preds_all)/len(y_test)\n",
    "print(\"Accuracy: %f\" % (accuracy_base))"
   ]
  },
  {
   "cell_type": "markdown",
   "metadata": {
    "id": "x32jT6eknAil"
   },
   "source": [
    "## Paper 5: Fairness-aware Classifier with Prejudice Remover Regularizer\n",
    "\n",
    "This paper introduces a fairness-aware classification method that addresses discrimination in automated decisions by introducing a **prejudice remover regularizer**.\n",
    "\n",
    "The paper identifies three main causes of unfairness in machine learning:\n",
    "- prejudice,\n",
    "- underestimation, and\n",
    "- negative legacy.\n",
    "\n",
    "The proposed regularization approach, applicable to any probabilistic discriminative model, aims to **mitigate indirect prejudice—bias not directly related to sensitive features but still affecting decisions**.\n",
    "\n",
    "### Baseline model (logistic regression model)\n",
    "\n",
    "$\\mathcal{M}[y|\\mbox{x},s;\\Theta]=y\\sigma(\\mbox{x}^T\\mbox{w}_s)+(1-y)(1-\\sigma(\\mbox{x}^T\\mbox{w}_s))$\n",
    "\n",
    "objective function to minimize:\n",
    "\n",
    "$-\\mathcal{L}(\\mathcal{D};\\Theta)+\\eta \\mathcal{R}(\\mathcal{D};\\Theta)+\\frac{\\lambda}{2}\\|\\Theta\\|^2_2$\n",
    "\n",
    "### Baseline model with prejudice remover regularize:\n",
    "\n",
    "$\\sum_{(\\mathcal{x}_is_i)\\in\\mathcal{D}}\\sum_{y\\in\\{0,1\\}}\\mathcal{M}[y|\\mbox{x}_i,s_i;\\Theta]\\ln\\frac{\\hat{\\Pr}[y|s_i]}{\\hat{\\Pr}[y]}$\n",
    "\n",
    "Where:\n",
    "\n",
    "$\\hat{\\Pr}[y|s_i]\\approx\\frac{\\sum_{(\\mathcal{x}_is_i)\\in\\mathcal{D}\\textit{ s.t. }s_i=s}\\mathcal{M}[y|\\mbox{x}_i,s_i;\\Theta]}{|\\{(\\mathcal{x}_i,s_i)\\in\\mathcal{D}\\textit{ s.t. }s_i=s\\}|}$\n",
    "\n",
    "$\\hat{\\Pr}[y]\\approx\\frac{\\sum_{(\\mathcal{x}_is_i)\\in\\mathcal{D}}\\mathcal{M}[y|\\mbox{x}_i,s_i;\\Theta]}{|\\mathcal{D}|}$"
   ]
  },
  {
   "cell_type": "code",
   "execution_count": 92,
   "metadata": {
    "id": "jQuiDkuGu81F"
   },
   "outputs": [],
   "source": [
    "#1\n",
    "df_1 = df.loc[df['two_year_recid']==1]\n",
    "X_1, y_1 = df_1.drop(\"two_year_recid\", axis = 1, inplace = False), df_1.two_year_recid\n",
    "X_train_1, X_test_1, y_train_1, y_test_1 = train_test_split(X_1, y_1, test_size=0.2, random_state=5243)\n",
    "\n",
    "x_1 = t.from_numpy(np.array(X_train_1)).to(t.float32)\n",
    "y_1 = t.from_numpy(np.array(y_train_1).astype('float32')).reshape(x_1.shape[0],1)\n",
    "\n",
    "x_test_1 = t.from_numpy(np.array(X_test_1)).to(t.float32)\n",
    "y_test_1 = t.from_numpy(np.array(y_test_1).astype('float32')).reshape(x_test_1.shape[0],1)\n",
    "\n",
    "#0\n",
    "df_0 = df.loc[df['two_year_recid']==0]\n",
    "X_0, y_0 = df_0.drop(\"two_year_recid\", axis = 1, inplace = False), df_0.two_year_recid\n",
    "X_train_0, X_test_0, y_train_0, y_test_0 = train_test_split(X_0, y_0, test_size=0.2, random_state=5243)\n",
    "\n",
    "x_0 = t.from_numpy(np.array(X_train_0)).to(t.float32)\n",
    "y_0 = t.from_numpy(np.array(y_train_0).astype('float32')).reshape(x_0.shape[0],1)\n",
    "\n",
    "x_test_0 = t.from_numpy(np.array(X_test_0)).to(t.float32)\n",
    "y_test_0 = t.from_numpy(np.array(y_test_0).astype('float32')).reshape(x_test_0.shape[0],1)"
   ]
  },
  {
   "cell_type": "code",
   "execution_count": 93,
   "metadata": {
    "colab": {
     "base_uri": "https://localhost:8080/"
    },
    "id": "Ni-m2eiXwBFl",
    "outputId": "9bfc8028-5853-4509-b108-bfb8d1483ca4"
   },
   "outputs": [
    {
     "data": {
      "text/plain": [
       "tensor([[  1.,  28.,   1.,  ...,  44., 792.,   0.],\n",
       "        [  1.,  54.,   1.,  ...,   0., 921.,   0.],\n",
       "        [  1.,  25.,   1.,  ...,   0., 827.,   0.],\n",
       "        ...,\n",
       "        [  1.,  20.,   1.,  ...,   0., 921.,   0.],\n",
       "        [  0.,  25.,   0.,  ...,   1., 758.,   0.],\n",
       "        [  0.,  23.,   0.,  ...,   0., 870.,   0.]])"
      ]
     },
     "execution_count": 93,
     "metadata": {},
     "output_type": "execute_result"
    }
   ],
   "source": [
    "x_0"
   ]
  },
  {
   "cell_type": "code",
   "execution_count": 94,
   "metadata": {
    "id": "CT25ZkJvwDrK"
   },
   "outputs": [],
   "source": [
    "class LogisticRegression(nn.Module):\n",
    "    def __init__(self):\n",
    "        super(LogisticRegression, self).__init__()\n",
    "        # out_features is the number of outputs. I don't use bias here because the constant dimension in x already introduced the bias term in W.\n",
    "        self.w = nn.Linear(x_1.shape[1], out_features=1, bias=True)\n",
    "        self.sigmod = nn.Sigmoid()\n",
    "    def forward(self,x):\n",
    "        # For the torch.nn.NLLLoss, the first input is the \"log probability\",log_softmax? log sigmod(binary).\n",
    "        w = self.w(x)\n",
    "        output = self.sigmod(w)\n",
    "        return output"
   ]
  },
  {
   "cell_type": "code",
   "execution_count": 95,
   "metadata": {
    "id": "xw4wmFs5wGlm"
   },
   "outputs": [],
   "source": [
    "class PRLoss():#using linear\n",
    "    def __init__(self, eta=1.0):\n",
    "        super(PRLoss, self).__init__()\n",
    "        self.eta = eta\n",
    "    def forward(self,output_1,output_0):\n",
    "        # For the mutual information,\n",
    "        # Pr[y|s] = sum{(xi,si),si=s} sigma(xi,si) / #D[xs]\n",
    "        #D[xs]\n",
    "        N_1 = t.tensor(output_1.shape[0])\n",
    "        N_0   = t.tensor(output_0.shape[0])\n",
    "        Dxisi = t.stack((N_0,N_1),axis=0)\n",
    "        # Pr[y|s]\n",
    "        y_pred_1 = t.sum(output_1)\n",
    "        y_pred_0   = t.sum(output_0)\n",
    "        P_ys = t.stack((y_pred_0,y_pred_1),axis=0) / Dxisi\n",
    "        # Pr[y]\n",
    "        P = t.cat((output_1,output_0),0)\n",
    "        P_y = t.sum(P) / (x_1.shape[0]+x_0.shape[0])\n",
    "        # P(siyi)\n",
    "        P_s1y1 = t.log(P_ys[1]) - t.log(P_y)\n",
    "        P_s1y0 = t.log(1-P_ys[1]) - t.log(1-P_y)\n",
    "        P_s0y1 = t.log(P_ys[0]) - t.log(P_y)\n",
    "        P_s0y0 = t.log(1-P_ys[0]) - t.log(1-P_y)\n",
    "        # PI\n",
    "        PI_s1y1 = output_1 * P_s1y1\n",
    "        PI_s1y0 =(1- output_1) * P_s1y0\n",
    "        PI_s0y1 = output_0 * P_s0y1\n",
    "        PI_s0y0 = (1- output_0 )* P_s0y0\n",
    "        PI = t.sum(PI_s1y1) + t.sum(PI_s1y0) + t.sum(PI_s0y1) + t.sum(PI_s0y0)\n",
    "        PI = self.eta * PI\n",
    "        return PI"
   ]
  },
  {
   "cell_type": "code",
   "execution_count": 96,
   "metadata": {
    "id": "f7skswYGwHiA"
   },
   "outputs": [],
   "source": [
    "def accuracy( Model_1,Model_0, x_1, y_1,x_0,y_0):\n",
    "    y1_pred = (Model_1(x_1) >= 0.5)\n",
    "    y0_pred = (Model_0(x_0) >= 0.5)\n",
    "    accu_1  = t.sum(y1_pred.flatten() == y_1.flatten()) / x_1.shape[0]\n",
    "    accu_0  = t.sum(y0_pred.flatten() == y_0.flatten()) / x_0.shape[0]\n",
    "    accuracy = (accu_1 + accu_0) / 2\n",
    "    return round(accuracy.item(),4)\n",
    "    print(\"Accuracy : %.3f\" % (accuracy * 100)+'%')"
   ]
  },
  {
   "cell_type": "code",
   "execution_count": 97,
   "metadata": {
    "id": "vazki2xDwJ7E"
   },
   "outputs": [],
   "source": [
    "class PRLR():#using linear\n",
    "    def __init__(self, eta=0.0,epochs = 3000,lr = 0.01):\n",
    "        super(PRLR, self).__init__()\n",
    "        self.eta = eta\n",
    "        self.epochs = epochs\n",
    "        self.lr = lr\n",
    "    def fit(self,x_1,y_1,x_0,y_0,x_test_1,y_test_1,x_test_0,y_test_0):\n",
    "        model_1 = LogisticRegression()\n",
    "        model_0 = LogisticRegression()\n",
    "        criterion = nn.BCELoss(reduction='sum')\n",
    "        PI = PRLoss(eta=self.eta)\n",
    "        epochs = self.epochs\n",
    "        optimizer = t.optim.Adam(list(model_1.parameters())+ list(model_0.parameters()), self.lr, weight_decay=1e-5)\n",
    "        for epoch in range(epochs):\n",
    "            optimizer.zero_grad()\n",
    "            output_1 = model_1(x_1)\n",
    "            output_0 = model_0(x_0)\n",
    "            logloss = criterion(output_1, y_1)+ criterion(output_0, y_0)\n",
    "            PIloss = PI.forward(output_1,output_0)\n",
    "            loss = PIloss +logloss\n",
    "            loss.backward()\n",
    "            optimizer.step()\n",
    "        model_1.eval()\n",
    "        model_0.eval()\n",
    "        accu = accuracy(model_1,model_0,x_test_1,y_test_1,x_test_0,y_test_0)\n",
    "        return accu"
   ]
  },
  {
   "cell_type": "code",
   "execution_count": 98,
   "metadata": {
    "colab": {
     "base_uri": "https://localhost:8080/"
    },
    "id": "-GEsMKEWwMVp",
    "outputId": "c0a376a5-a794-4bd5-dbbd-1964238a638a"
   },
   "outputs": [
    {
     "name": "stdout",
     "output_type": "stream",
     "text": [
      "accuracy: 0.9943000078201294\n"
     ]
    }
   ],
   "source": [
    "PR = PRLR(eta = 1.0, epochs = 1000, lr = 0.01)\n",
    "\n",
    "accv=t.tensor(PR.fit(x_1,y_1,x_0,y_0,x_test_1,y_test_1,x_test_0,y_test_0))\n",
    "print(\"accuracy:\",float(accv))"
   ]
  },
  {
   "cell_type": "markdown",
   "metadata": {
    "id": "7JkUP0x9suGx"
   },
   "source": [
    "## Paper 6: Handling Conditional Discrimination\n",
    "\n",
    "This paper handle with discrimination introduced by sensitive parameter, here \"race\".\n",
    "\n",
    "### Background\n",
    "\n",
    "The bias that caused by discrimination can be distribute to two part:\n",
    "- discrimination caused by the sensitive attribute itself $D_{bad}$\n",
    "- the discrimination caused by the attributes that are correlated to the sensitive attribute $D_{expl}$.\n",
    "\n",
    "*Notice* : the attribute that are correlated to the sensitive attribute and also gives some objective information to the label y is called **explanatory attribute**.\n",
    "\n",
    "In summary, $D_{all}=D_{bad}+D_{expl}$.\n",
    "\n",
    "### Objective of the paper\n",
    "\n",
    "- minimize the absolute value of $D_{bad}$\n",
    "- keeping the accuracy as high as possible\n",
    "\n",
    "### Method\n",
    "\n",
    "To be discrimination free, we should control:\n",
    "- $P_c(+|e_i, race = 0) = P_c(+|e_i, race = 1)$, where $e_i$ is the explanatory attribute and $P(+)=P(y=+1)$\n",
    "- $P_c(+|e_i) = P_c^\\star(+|e_i)$, where $P_c^\\star(+|e_i):=\\frac{P_c(+|e_i, race=1)+P_c(+|e_i, race=0)}{2}$\n",
    "\n",
    "To achieve it, the paper introduced two methods: Local Massaging and Local Preferential Sampling.\n",
    "\n",
    "###  *Local Massaging*\n",
    "\n",
    "Modify the value of y until $P_c'(+|e_i, race = 0)=P_c'(+|e_i, race = 1)=P_c^\\star(+|e_i)$ by identifing the instances that are close to the decision boundary and changes the values of their labels to the opposite.\n",
    "\n",
    "Convert the original binary label y into real valued probabilities of defendant recidivated within two year, and sort the value. Change the lable of individuals that are almost recidivated within two year or almost not recidivated within two year to opposite.\n",
    "\n",
    "### *Local Preferential Sampling*\n",
    "\n",
    "This method modifies the composition of the training set. It deletes and duplicates training instances such that the modified training set satisty $P_c'(+|e_i, race = 0)=P_c'(+|e_i, race = 1)=P_c^\\star(+|e_i)$.\n",
    "\n",
    "To achieve it, it deletes the ‘wrong’ instances that are close to the decision boundary and duplicates the instances that are ‘right’ and close to the boundary."
   ]
  },
  {
   "cell_type": "code",
   "execution_count": 78,
   "metadata": {
    "colab": {
     "base_uri": "https://localhost:8080/"
    },
    "id": "ahHLuCvLqbOZ",
    "outputId": "e828691a-687e-4be2-9e8c-e9c72ecec3ad"
   },
   "outputs": [
    {
     "data": {
      "text/plain": [
       "0.13598888652499458"
      ]
     },
     "execution_count": 78,
     "metadata": {},
     "output_type": "execute_result"
    }
   ],
   "source": [
    "## Calculate D_{all}\n",
    "def D_all_func(data = df):\n",
    "  P_y1r1 = len(data[(data[\"two_year_recid\"] == 1) & (data[\"race\"] == 1)])/len(data[data['race'] == 1])\n",
    "  P_y1r0 = len(data[(data[\"two_year_recid\"] == 1) & (data[\"race\"] == 0)])/len(data[data['race'] == 0])\n",
    "  D_all = P_y1r0-P_y1r1\n",
    "  return(D_all)\n",
    "\n",
    "D_all_base = D_all_func()\n",
    "D_all_base"
   ]
  },
  {
   "cell_type": "code",
   "execution_count": 79,
   "metadata": {
    "id": "6jFMhudq3W5q"
   },
   "outputs": [],
   "source": [
    "expl = ['sex', 'age', 'juv_fel_count', 'decile_score', 'juv_misd_count',\n",
    "       'juv_other_count', 'priors_count',\n",
    "       'c_days_from_compas', 'c_charge_degree', 'is_violent_recid', 'start', 'end', 'event']\n",
    "\n",
    "## Calculate D_bad\n",
    "def D_bad_func(data = df, y_col = \"two_year_recid\", expl_col = expl, D_all = D_all_base):\n",
    "\n",
    "  '''\n",
    "  This function take a data frame, the name of the y column and a list of explanatory attribute as input\n",
    "  Then output a dictionary of D_{expl}\n",
    "  '''\n",
    "\n",
    "  D_bad = dict()\n",
    "  for i in expl_col:\n",
    "    P_star_i = data.groupby(['race', i])[y_col].mean().unstack(fill_value=0).mean()\n",
    "    expl_counts = data.groupby(['race', i]).size().unstack(fill_value=0)\n",
    "    race_counts = data['race'].value_counts()\n",
    "    P_e_r = expl_counts.div(race_counts, axis=0)\n",
    "    P_e_r_diff =  P_e_r.loc[0] - P_e_r.loc[1]\n",
    "    D_bad_i = D_all - (P_e_r_diff * P_star_i).sum()\n",
    "    D_bad[i] = D_bad_i\n",
    "\n",
    "  return(D_bad)\n",
    "\n",
    "D_bad_baseline = D_bad_func()"
   ]
  },
  {
   "cell_type": "code",
   "execution_count": 80,
   "metadata": {
    "colab": {
     "base_uri": "https://localhost:8080/",
     "height": 607
    },
    "id": "yUsDhTv3lA-_",
    "outputId": "7d873427-bffd-4838-ca92-62fd489fe172"
   },
   "outputs": [
    {
     "data": {
      "image/png": "[encoded data removed]",
      "text/plain": [
       "<Figure size 800x600 with 1 Axes>"
      ]
     },
     "metadata": {},
     "output_type": "display_data"
    }
   ],
   "source": [
    "## Plot the graph of D_{all} and D_{bad}\n",
    "def plot_D(D_bad, D_all):\n",
    "  df_plot = pd.DataFrame({\n",
    "      'Column': D_bad.keys(),\n",
    "      'D_bad': D_bad.values()\n",
    "  })\n",
    "  plt.figure(figsize=(8, 6))\n",
    "\n",
    "  # Plot D_{expl} and D_{all}\n",
    "  plt.plot(df_plot['Column'], df_plot['D_bad'], marker='x', label='D_bad')\n",
    "  plt.axhline(y=D_all, color='r', linestyle='-', label='D_all')\n",
    "  plt.axhline(y=0, color='black', linestyle='-')\n",
    "  plt.title('D_all and D_bad')\n",
    "  plt.xlabel('Column')\n",
    "  plt.ylabel('Value')\n",
    "  plt.xticks(rotation=90)\n",
    "  plt.legend()\n",
    "  plt.tight_layout()\n",
    "  plt.show()\n",
    "\n",
    "plot_D(D_bad_baseline, D_all_base)"
   ]
  },
  {
   "cell_type": "markdown",
   "metadata": {
    "id": "G2I1jjXkpFQk"
   },
   "source": [
    "As we can see on the plot, `decile_score` have the highest $D_{expl}$ in absolute value. Hence, we will use `decile_score` as the explanatory attribute."
   ]
  },
  {
   "cell_type": "code",
   "execution_count": 81,
   "metadata": {
    "id": "19wRSqvpe_UI"
   },
   "outputs": [],
   "source": [
    "# define attributes\n",
    "explanatory_attribute = 'decile_score'\n",
    "sensitive_attribute = 'race'\n",
    "target = 'two_year_recid'"
   ]
  },
  {
   "cell_type": "code",
   "execution_count": 82,
   "metadata": {
    "id": "qxXvGz3Ve_UJ"
   },
   "outputs": [],
   "source": [
    "def LocalMethod(df = df, sensitive_attr = sensitive_attribute,\n",
    "                explanatory_attr = explanatory_attribute, target = target):\n",
    "  '''\n",
    "  This function take a data frame, the sensitive attribute,\n",
    "  the explanatory attribute and the y_label as input\n",
    "\n",
    "  Then output two data frame that corresponding to the data\n",
    "  modified by LocalMassaging and LocalPreferential\n",
    "  '''\n",
    "\n",
    "  df_massaged = df.copy() # avoid changing originial dataframe\n",
    "  df_preferential = df.copy()\n",
    "\n",
    "  # Calculate P*\n",
    "  P_star = df_massaged.groupby(explanatory_attr)[target].mean().mean()\n",
    "\n",
    "  # Calculate the acceptance rate for each group\n",
    "  acceptance_rates = df_massaged.groupby([sensitive_attr, explanatory_attr])[target].mean()\n",
    "\n",
    "  # For each group within the explanatory subset, adjust labels to match P*\n",
    "  for (sens_value, expl_value), group_df in df_massaged.groupby([sensitive_attr, explanatory_attr]):\n",
    "\n",
    "      # Calculate the number of labels that need to be changed\n",
    "      current_rate = acceptance_rates[sens_value, expl_value]\n",
    "      num_to_change = int(abs(current_rate - P_star) * len(group_df))\n",
    "      num_to_change_p = int(1/2 * abs(current_rate - P_star) * len(group_df))\n",
    "\n",
    "      if num_to_change == 0:\n",
    "          continue\n",
    "\n",
    "      X_race = group_df.drop(target, axis = 1, inplace = False)\n",
    "      X_race_scaled = scaler.fit_transform(X_race)\n",
    "      ## Learn a ranker\n",
    "      ranker = LogisticRegression(random_state=5243,max_iter=200)\n",
    "\n",
    "      ranker.fit(X_race_scaled, group_df.two_year_recid)\n",
    "      group_df['rank'] = ranker.predict_proba(X_race_scaled)[:, 1]\n",
    "\n",
    "      # Sort the individuals based on closeness to decision boundary\n",
    "      group_df_sorted = group_df.sort_values(by='rank', ascending=False)\n",
    "      group_indices = group_df_sorted.index\n",
    "\n",
    "      ## partition different label to two group\n",
    "      label_0 = group_df_sorted[group_df_sorted[target] == 0]\n",
    "      label_1 = group_df_sorted[group_df_sorted[target] == 1]\n",
    "\n",
    "      cloest_1_but_0 = label_0.head(num_to_change_p).drop(columns = 'rank')\n",
    "      cloest_0_but_1 = label_1.tail(num_to_change_p).drop(columns = 'rank')\n",
    "\n",
    "      if current_rate > P_star:\n",
    "          # Modifies the dataset\n",
    "          change_indices = label_1.head(num_to_change).index\n",
    "          df_massaged.loc[change_indices, target] = 0\n",
    "          df_preferential.drop(cloest_0_but_1.index, inplace = True)\n",
    "          df_preferential = pd.concat([df_preferential, cloest_1_but_0], ignore_index=False)\n",
    "      else:\n",
    "          change_indices = label_0.head(num_to_change).index\n",
    "          df_massaged.loc[change_indices, target] = 1\n",
    "          df_preferential.drop(cloest_1_but_0.index, inplace = True)\n",
    "          df_preferential = pd.concat([df_preferential, cloest_0_but_1], ignore_index=False)\n",
    "\n",
    "  return df_massaged, df_preferential"
   ]
  },
  {
   "cell_type": "code",
   "execution_count": 83,
   "metadata": {
    "id": "2-Fe4ht4jB9E"
   },
   "outputs": [],
   "source": [
    "df_lm, df_lp = LocalMethod()"
   ]
  },
  {
   "cell_type": "code",
   "execution_count": 84,
   "metadata": {
    "colab": {
     "base_uri": "https://localhost:8080/",
     "height": 607
    },
    "id": "vk75GiyAe_UK",
    "outputId": "c87dd304-7fe4-4ba1-aa5e-5d0a927110d3"
   },
   "outputs": [
    {
     "data": {
      "image/png": "[encoded data removed]",
      "text/plain": [
       "<Figure size 800x600 with 1 Axes>"
      ]
     },
     "metadata": {},
     "output_type": "display_data"
    }
   ],
   "source": [
    "D_all_lm = D_all_func(data = df_lm)\n",
    "D_bad_lm = D_bad_func(data = df_lm, expl_col=expl, D_all = D_all_lm)\n",
    "plot_D(D_bad_lm, D_all_base)"
   ]
  },
  {
   "cell_type": "markdown",
   "metadata": {
    "id": "m4pb6YXAxYKJ"
   },
   "source": [
    "$D_{bad}$ decreased after we apply the algorithm. $D_{bad}$ for some of the columns are very close to zero.\n",
    "\n",
    "Absolute value of `D_bad` decreased significantly compare to our baseline.\n",
    "\n"
   ]
  },
  {
   "cell_type": "code",
   "execution_count": 89,
   "metadata": {
    "colab": {
     "base_uri": "https://localhost:8080/"
    },
    "id": "a-gRhhgbkSmL",
    "outputId": "88084608-dd01-4201-86ab-a234cd5ab23e"
   },
   "outputs": [
    {
     "name": "stdout",
     "output_type": "stream",
     "text": [
      "Accuracy: 0.929860\n",
      "LM Accuracy: 0.811585\n",
      "LM Accuracy of African-American: 0.802587\n",
      "LM Accuracy of Caucasian: 0.818137\n"
     ]
    }
   ],
   "source": [
    "# Accuracy of local massaging\n",
    "X_lm, Y_lm = df_lm.drop(\"two_year_recid\", axis = 1, inplace = False), df_lm.two_year_recid\n",
    "X_lm_1 = X_lm[X_lm['race'] == 1]\n",
    "X_lm_0 = X_lm[X_lm['race'] == 0]\n",
    "Y_lm_1 = df_lm.two_year_recid[df_lm['race'] == 1]\n",
    "Y_lm_0 = df_lm.two_year_recid[df_lm['race'] == 0]\n",
    "X_lm = scaler.fit_transform(X_lm)\n",
    "X_lm_1 = scaler.fit_transform(X_lm_1)\n",
    "X_lm_0 = scaler.fit_transform(X_lm_0)\n",
    "\n",
    "preds_all_lm = baseline.predict(X_lm)\n",
    "accuracy_lm = sum(Y_lm == preds_all_lm)/len(Y_lm)\n",
    "preds_1_lm = baseline.predict(X_lm_1)\n",
    "accuracy_lm_1 = sum(Y_lm_1 == preds_1_lm)/len(Y_lm_1)\n",
    "preds_0_lm = baseline.predict(X_lm_0)\n",
    "accuracy_lm_0 = sum(Y_lm_0 == preds_0_lm)/len(Y_lm_0)\n",
    "\n",
    "\n",
    "print(\"Accuracy: %f\" % (accuracy_base))\n",
    "print(\"LM Accuracy: %f\" % (accuracy_lm))\n",
    "print(\"LM Accuracy of African-American: %f\" % (accuracy_lm_0))\n",
    "print(\"LM Accuracy of Caucasian: %f\" % (accuracy_lm_1))"
   ]
  },
  {
   "cell_type": "markdown",
   "metadata": {
    "id": "zgC8RfguM7VK"
   },
   "source": [
    "## *Local preferential sampling*"
   ]
  },
  {
   "cell_type": "code",
   "execution_count": 90,
   "metadata": {
    "colab": {
     "base_uri": "https://localhost:8080/",
     "height": 607
    },
    "id": "aGhzOlhsLYZw",
    "outputId": "d54e6f88-863e-4c9b-80df-2d42b385db90"
   },
   "outputs": [
    {
     "data": {
      "image/png": "[encoded data removed]",
      "text/plain": [
       "<Figure size 800x600 with 1 Axes>"
      ]
     },
     "metadata": {},
     "output_type": "display_data"
    }
   ],
   "source": [
    "D_all_lps = D_all_func(data = df_lp)\n",
    "D_bad_lps = D_bad_func(data = df_lp, expl_col=expl, D_all = D_all_lps)\n",
    "plot_D(D_bad_lps, D_all_base)"
   ]
  },
  {
   "cell_type": "markdown",
   "metadata": {
    "id": "bF-ipsXqxv7t"
   },
   "source": [
    "As we can see from the plot, the $D_{bad}$ decrease after we apply the algorithm. However, the decreasing seems to be limited."
   ]
  },
  {
   "cell_type": "code",
   "execution_count": 91,
   "metadata": {
    "colab": {
     "base_uri": "https://localhost:8080/"
    },
    "id": "pAN45Sq_QLj8",
    "outputId": "a9301222-a73e-4cdf-8125-77f865988b04"
   },
   "outputs": [
    {
     "name": "stdout",
     "output_type": "stream",
     "text": [
      "Baseline Accuracy: 0.929860\n",
      "LPS Accuracy: 0.928042\n",
      "LPS Accuracy of African-American: 0.923758\n",
      "LPS Accuracy of Caucasian: 0.942467\n"
     ]
    }
   ],
   "source": [
    "# Accuracy of LPS\n",
    "X_lps, y_lps = df_lp.drop(\"two_year_recid\", axis = 1, inplace = False), df_lp.two_year_recid\n",
    "X_lps_1 = X_lps[X_lps['race'] == 1]\n",
    "X_lps_0 = X_lps[X_lps['race'] == 0]\n",
    "y_lps_1 = df_lp.two_year_recid[df_lp['race'] == 1]\n",
    "y_lps_0 = df_lp.two_year_recid[df_lp['race'] == 0]\n",
    "X_lps = scaler.fit_transform(X_lps)\n",
    "X_lps_1 = scaler.fit_transform(X_lps_1)\n",
    "X_lps_0 = scaler.fit_transform(X_lps_0)\n",
    "\n",
    "preds_all_lps = baseline.predict(X_lps)\n",
    "accuracy_lps = sum(y_lps == preds_all_lps)/len(y_lps)\n",
    "preds_1_lps = baseline.predict(X_lps_1)\n",
    "accuracy_lps_1 = sum(y_lps_1 == preds_1_lps)/len(y_lps_1)\n",
    "preds_0_lps = baseline.predict(X_lps_0)\n",
    "accuracy_lps_0 = sum(y_lps_0 == preds_0_lps)/len(y_lps_0)\n",
    "\n",
    "\n",
    "print(\"Baseline Accuracy: %f\" % (accuracy_base))\n",
    "print(\"LPS Accuracy: %f\" % (accuracy_lps))\n",
    "print(\"LPS Accuracy of African-American: %f\" % (accuracy_lps_0))\n",
    "print(\"LPS Accuracy of Caucasian: %f\" % (accuracy_lps_1))"
   ]
  },
  {
   "cell_type": "markdown",
   "metadata": {
    "id": "BZdeuHxYR4nO"
   },
   "source": [
    "### Conclusion\n",
    "\n",
    "The Local messiaging method preform better in reducing the $D_{bad}$, but the amount of decreasing in accuracy is larger. Hence, if one want keep the $D_{all}$ but do not want to reduce the accuracy too much, they may want to choose the local preferential sampling. But if they want to reduce $D_{all}$ as much as possible, they will prefer local messiaging."
   ]
  }
 ],
 "metadata": {
  "colab": {
   "provenance": []
  },
  "kernelspec": {
   "display_name": "Python 3 (ipykernel)",
   "language": "python",
   "name": "python3"
  },
  "language_info": {
   "codemirror_mode": {
    "name": "ipython",
    "version": 3
   },
   "file_extension": ".py",
   "mimetype": "text/x-python",
   "name": "python",
   "nbconvert_exporter": "python",
   "pygments_lexer": "ipython3",
   "version": "3.11.4"
  }
 },
 "nbformat": 4,
 "nbformat_minor": 1
}
